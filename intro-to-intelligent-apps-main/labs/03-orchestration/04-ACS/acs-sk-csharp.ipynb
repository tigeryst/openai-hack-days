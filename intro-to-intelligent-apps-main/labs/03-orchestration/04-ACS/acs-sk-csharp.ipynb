{
 "cells": [
  {
   "attachments": {},
   "cell_type": "markdown",
   "metadata": {},
   "source": [
    "# 04 - AI Orchestration with Azure Cognitive Search\n",
    "\n",
    "In this lab, we will do a deeper dive around the Azure Cognitive Search vector store and different ways to interact with it."
   ]
  },
  {
   "cell_type": "markdown",
   "metadata": {},
   "source": [
    "## Create Azure Cognitive Search Vector Store in Azure\n",
    "\n",
    "First, we need to create an Azure Cognitive Search service in Azure, which will act as a vector store. We'll use the Azure CLI to do this.\n",
    "\n",
    "**NOTE:** Update **`<INITIALS>`** to make the name unique."
   ]
  },
  {
   "cell_type": "code",
   "execution_count": null,
   "metadata": {
    "dotnet_interactive": {
     "language": "csharp"
    },
    "polyglot_notebook": {
     "kernelName": "csharp"
    },
    "vscode": {
     "languageId": "polyglot-notebook"
    }
   },
   "outputs": [],
   "source": [
    "// Execute the following commands using the Azure CLI to create the Azure Cognitive Search resource in Azure.\n",
    "RESOURCE_GROUP=\"azure-cognitive-search-rg\"\n",
    "LOCATION=\"westeurope\"\n",
    "NAME=\"acs-vectorstore-<INITIALS>\"\n",
    "az group create --name $RESOURCE_GROUP --location $LOCATION\n",
    "az search service create -g $RESOURCE_GROUP -n $NAME -l $LOCATION --sku Basic --partition-count 1 --replica-count 1"
   ]
  },
  {
   "cell_type": "markdown",
   "metadata": {},
   "source": [
    "Next, we need to find and update the following values in the `.env` file with the Azure Cognitive Search **endpoint**, **admin key**, and **index name** values. Use the Azure Portal or CLI.\n",
    "\n",
    "```\n",
    "AZURE_COGNITIVE_SEARCH_SERVICE_NAME = \"<YOUR AZURE COGNITIVE SEARCH SERVICE NAME - e.g. cognitive-search-service>\"\n",
    "AZURE_COGNITIVE_SEARCH_ENDPOINT_NAME = \"<YOUR AZURE COGNITIVE SEARCH ENDPOINT NAME - e.g. https://cognitive-search-service.search.windows.net\"\n",
    "AZURE_COGNITIVE_SEARCH_INDEX_NAME = \"<YOUR AZURE COGNITIVE SEARCH INDEX NAME - e.g. cognitive-search-index>\"\n",
    "AZURE_COGNITIVE_SEARCH_API_KEY = \"<YOUR AZURE COGNITIVE SEARCH ADMIN API KEY - e.g. cognitive-search-admin-api-key>\"\n",
    "```"
   ]
  },
  {
   "cell_type": "markdown",
   "metadata": {},
   "source": [
    "## Setup Azure OpenAI\n",
    "\n",
    "We'll start as usual by defining our Azure OpenAI service API key and endpoint details, specifying the model deployment we want to use and then we'll initiate a connection to the Azure OpenAI service.\n",
    "\n",
    "**NOTE**: As with previous labs, we'll use the values from the `.env` file in the root of this repository."
   ]
  },
  {
   "cell_type": "code",
   "execution_count": null,
   "metadata": {
    "dotnet_interactive": {
     "language": "csharp"
    },
    "polyglot_notebook": {
     "kernelName": "csharp"
    },
    "vscode": {
     "languageId": "polyglot-notebook"
    }
   },
   "outputs": [],
   "source": [
    "// Add the Packages\n",
    "#r \"nuget: DotNetEnv, 2.5.0\"\n",
    "#r \"nuget: Microsoft.SemanticKernel, 0.24.230918.1-preview\"\n",
    "#r \"nuget: Azure.AI.OpenAI, 1.0.0-beta.7\"\n",
    "#r \"nuget: Azure.Identity, 1.10.1\"\n",
    "#r \"nuget: Azure.Search.Documents, 11.5.0-beta.4\"\n",
    "\n",
    "using System.IO;\n",
    "\n",
    "// Read values from .env file\n",
    "DotNetEnv.Env.Load(\"../../../.env\");\n",
    "\n",
    "// Load values into variables\n",
    "var openai_api_type = System.Environment.GetEnvironmentVariable(\"OPENAI_API_TYPE\");\n",
    "var openai_api_key = System.Environment.GetEnvironmentVariable(\"OPENAI_API_KEY\");\n",
    "var openai_api_base = System.Environment.GetEnvironmentVariable(\"OPENAI_API_BASE\");\n",
    "var openai_api_version = System.Environment.GetEnvironmentVariable(\"OPENAI_API_VERSION\");\n",
    "var deployment_name = System.Environment.GetEnvironmentVariable(\"AZURE_OPENAI_COMPLETION_DEPLOYMENT_NAME\");\n",
    "var embedding_name = System.Environment.GetEnvironmentVariable(\"AZURE_OPENAI_EMBEDDING_DEPLOYMENT_NAME\");\n",
    "var acs_service_name = System.Environment.GetEnvironmentVariable(\"AZURE_COGNITIVE_SEARCH_SERVICE_NAME\");\n",
    "var acs_endpoint_name = System.Environment.GetEnvironmentVariable(\"AZURE_COGNITIVE_SEARCH_ENDPOINT_NAME\");\n",
    "var acs_index_name = System.Environment.GetEnvironmentVariable(\"AZURE_COGNITIVE_SEARCH_INDEX_NAME\");\n",
    "var acs_api_key = System.Environment.GetEnvironmentVariable(\"AZURE_COGNITIVE_SEARCH_API_KEY\");\n",
    "\n",
    "Console.WriteLine(\"Environment Variables loaded.\");"
   ]
  },
  {
   "attachments": {},
   "cell_type": "markdown",
   "metadata": {},
   "source": [
    "First, we will load the data from the movies.csv file and then extract a subset to load into the Azure Cognitive Search index. We do this to help avoid the Azure OpenAI embedding limits and long loading times when inserting data into the index."
   ]
  },
  {
   "cell_type": "code",
   "execution_count": null,
   "metadata": {
    "dotnet_interactive": {
     "language": "csharp"
    },
    "polyglot_notebook": {
     "kernelName": "csharp"
    },
    "vscode": {
     "languageId": "polyglot-notebook"
    }
   },
   "outputs": [],
   "source": [
    "using System.IO;\n",
    "\n",
    "// Movie Fields in CSV\n",
    "// id,original_language,original_title,popularity,release_date,vote_average,vote_count,genre,overview,revenue,runtime,tagline\n",
    "string path = @\"./movies.csv\";\n",
    "string[] allMovies;\n",
    "string[] movieSubset;\n",
    "// The subset of movies to load into the Azure Cognitive Search Index.\n",
    "// The more movies you load, the longer it will take due to Embedding limits.\n",
    "int movieSubsetCount = 50;\n",
    "try\n",
    "{\n",
    "    if (File.Exists(path))\n",
    "    {\n",
    "        allMovies = File.ReadAllLines(path);\n",
    "        movieSubset = allMovies.Skip(1).Take(movieSubsetCount).ToArray();\n",
    "    }\n",
    "}\n",
    "catch (Exception e)\n",
    "{\n",
    "    Console.WriteLine(\"The process failed: {0}\", e.ToString());\n",
    "}\n",
    "\n",
    "// Write out the results.\n",
    "Console.WriteLine($\"CSV File Loaded {movieSubset.Length}.\");"
   ]
  },
  {
   "attachments": {},
   "cell_type": "markdown",
   "metadata": {},
   "source": [
    "Next, we will create an Azure OpenAI Client to do embeddings and completions."
   ]
  },
  {
   "cell_type": "code",
   "execution_count": null,
   "metadata": {
    "dotnet_interactive": {
     "language": "csharp"
    },
    "polyglot_notebook": {
     "kernelName": "csharp"
    },
    "vscode": {
     "languageId": "polyglot-notebook"
    }
   },
   "outputs": [],
   "source": [
    "using Azure;\n",
    "using Azure.AI.OpenAI;\n",
    "using Azure.Identity;\n",
    "\n",
    "// Create the Azure OpenAI client.\n",
    "OpenAIClient azureOpenAIClient = new OpenAIClient(new Uri(openai_api_base),new AzureKeyCredential(openai_api_key));\n",
    "\n",
    "Console.WriteLine(\"Azure OpenAI client Created.\");"
   ]
  },
  {
   "cell_type": "markdown",
   "metadata": {},
   "source": [
    "## Load Movies into Azure Cognitive Search\n",
    "\n",
    "Next, we'll create the Azure Cognitive Search index, embed the loaded movies from the CSV file, and upload the data into the newly created index. Depending on the number of movies loaded and rate limiting, this might take a while to do the embeddings so be patient."
   ]
  },
  {
   "cell_type": "code",
   "execution_count": null,
   "metadata": {
    "dotnet_interactive": {
     "language": "csharp"
    },
    "polyglot_notebook": {
     "kernelName": "csharp"
    },
    "vscode": {
     "languageId": "polyglot-notebook"
    }
   },
   "outputs": [],
   "source": [
    "using Azure.Search.Documents;\n",
    "using Azure.Search.Documents.Models;\n",
    "using Azure.Search.Documents.Indexes;\n",
    "using Azure.Search.Documents.Indexes.Models;\n",
    "using Microsoft.Extensions.Configuration;\n",
    "\n",
    "// Setup variables.\n",
    "string vectorSearchConfigName = \"my-vector-config\";\n",
    "string semanticSearchConfigName = \"my-semantic-config\";\n",
    "int modelDimensions = 1536;\n",
    "\n",
    "// Create an Azure Cognitive Search index client.\n",
    "AzureKeyCredential indexCredential = new AzureKeyCredential(acs_api_key);\n",
    "SearchIndexClient indexClient = new SearchIndexClient(new Uri(acs_endpoint_name), indexCredential);\n",
    "\n",
    "// Create the index definition.\n",
    "// Setup the VectorSearch configuration.\n",
    "VectorSearch vectorSearch = new VectorSearch();\n",
    "vectorSearch.AlgorithmConfigurations.Add(new HnswVectorSearchAlgorithmConfiguration(vectorSearchConfigName));\n",
    "// Setup the SemanticSettings configuration.\n",
    "SemanticSettings semanticSettings = new SemanticSettings();\n",
    "semanticSettings.Configurations.Add(new SemanticConfiguration(semanticSearchConfigName, new PrioritizedFields()\n",
    "{\n",
    "    TitleField = new SemanticField() { FieldName = \"content\" },\n",
    "    KeywordFields = { new SemanticField() { FieldName = \"content\" } },\n",
    "    ContentFields = { new SemanticField() { FieldName = \"content\" } },\n",
    "}));\n",
    "// Setup the Fields configuration.\n",
    "IList<SearchField> fields = new List<SearchField>();\n",
    "fields.Add(new SimpleField(\"id\", SearchFieldDataType.String) { IsKey = true, IsFilterable = true, IsSortable = true, IsFacetable = true });\n",
    "fields.Add(new SearchableField(\"content\", false) {});\n",
    "fields.Add(new SearchField(\"content_vector\", SearchFieldDataType.Collection(SearchFieldDataType.Single))\n",
    "{\n",
    "    IsSearchable = true,\n",
    "    VectorSearchDimensions = modelDimensions,\n",
    "    VectorSearchConfiguration = vectorSearchConfigName\n",
    "});\n",
    "\n",
    "// Setup SearchIndex\n",
    "SearchIndex searchIndex = new SearchIndex(acs_index_name);\n",
    "searchIndex.VectorSearch = vectorSearch;\n",
    "searchIndex.SemanticSettings = semanticSettings;\n",
    "searchIndex.Fields = fields;\n",
    "\n",
    "// Create the index\n",
    "indexClient.CreateOrUpdateIndex(searchIndex);\n",
    "\n",
    "Console.WriteLine($\"Index {acs_index_name} created.\");"
   ]
  },
  {
   "cell_type": "markdown",
   "metadata": {},
   "source": [
    "Next we will create the document structure needed to upload the data into the Azure Cognitive Search index.\n",
    "\n",
    "**NOTE**: Be patient, creating the embeddings will take some time due to the Azure OpenAI embedding Token Per Minute (TPM) limits."
   ]
  },
  {
   "cell_type": "code",
   "execution_count": null,
   "metadata": {
    "dotnet_interactive": {
     "language": "csharp"
    },
    "polyglot_notebook": {
     "kernelName": "csharp"
    },
    "vscode": {
     "languageId": "polyglot-notebook"
    }
   },
   "outputs": [],
   "source": [
    "using Azure.Search.Documents;\n",
    "using Azure.Search.Documents.Models;\n",
    "\n",
    "// Create structure to match the Azure Cognitive Search index.\n",
    "List<SearchDocument> movieDocuments = new List<SearchDocument>();\n",
    "for (int i = 0; i < movieSubset.Length; i++) \n",
    "{\n",
    "    Console.WriteLine($\"Movie {i} being added.\");\n",
    "    string id = System.Guid.NewGuid().ToString();\n",
    "    string content = movieSubset[i];\n",
    "    float[] contentEmbeddings = azureOpenAIClient.GetEmbeddings(embedding_name, new EmbeddingsOptions(content)).Value.Data[0].Embedding.ToArray();\n",
    "    SearchDocument document = new SearchDocument();\n",
    "    document.Add(\"id\", id);\n",
    "    document.Add(\"content\", content);\n",
    "    document.Add(\"content_vector\", contentEmbeddings);\n",
    "    movieDocuments.Add(new SearchDocument(document));\n",
    "    Console.WriteLine($\"Movie {i} added.\");\n",
    "}\n",
    "\n",
    "Console.WriteLine($\"New SearchDocument structure with embeddings created for {movieDocuments.Count} movies.\");"
   ]
  },
  {
   "cell_type": "markdown",
   "metadata": {},
   "source": [
    "Next we will upload the movie documents in the newly created structure to the Azure Cognitive Search index."
   ]
  },
  {
   "cell_type": "code",
   "execution_count": null,
   "metadata": {
    "dotnet_interactive": {
     "language": "csharp"
    },
    "polyglot_notebook": {
     "kernelName": "csharp"
    },
    "vscode": {
     "languageId": "polyglot-notebook"
    }
   },
   "outputs": [],
   "source": [
    "using Azure.Search.Documents;\n",
    "using Azure.Search.Documents.Models;\n",
    "using Azure.Search.Documents.Indexes;\n",
    "using Azure.Search.Documents.Indexes.Models;\n",
    "\n",
    "// Create an Azure Cognitive Search index client.\n",
    "AzureKeyCredential indexCredential = new AzureKeyCredential(acs_api_key);\n",
    "SearchIndexClient indexClient = new SearchIndexClient(new Uri(acs_endpoint_name), indexCredential);\n",
    "SearchClient searchIndexClient = indexClient.GetSearchClient(acs_index_name);\n",
    "\n",
    "IndexDocumentsOptions options = new IndexDocumentsOptions { ThrowOnAnyError = true };\n",
    "searchIndexClient.IndexDocuments(IndexDocumentsBatch.Upload(movieDocuments), options);\n",
    "\n",
    "Console.WriteLine($\"Successfully loaded {movieDocuments.Count} movies into Azure Cognitive Search index.\");"
   ]
  },
  {
   "cell_type": "markdown",
   "metadata": {},
   "source": [
    "## Vector Store Searching using Azure Cognitive Search\n",
    "\n",
    "Now that we have the movies loaded into Azure Cognitive Search, let's do some different types of searches using the Azure Cognitive Search SDK."
   ]
  },
  {
   "cell_type": "code",
   "execution_count": null,
   "metadata": {
    "dotnet_interactive": {
     "language": "csharp"
    },
    "polyglot_notebook": {
     "kernelName": "csharp"
    },
    "vscode": {
     "languageId": "polyglot-notebook"
    }
   },
   "outputs": [],
   "source": [
    "// Setup an Azure Cognitive Search client for searching.\n",
    "\n",
    "using Azure;\n",
    "using Azure.Search.Documents;\n",
    "using Azure.Search.Documents.Models;\n",
    "using Azure.Search.Documents.Indexes;\n",
    "using System.Text.Json.Serialization;\n",
    "\n",
    "// Create a client\n",
    "AzureKeyCredential credential = new AzureKeyCredential(acs_api_key);\n",
    "SearchClient searchClient = new SearchClient(new Uri(acs_endpoint_name), acs_index_name, credential);\n",
    "\n",
    "Console.WriteLine($\"Successfully created Azure Cognitive Search SearchClient.\");"
   ]
  },
  {
   "cell_type": "code",
   "execution_count": null,
   "metadata": {
    "dotnet_interactive": {
     "language": "csharp"
    },
    "polyglot_notebook": {
     "kernelName": "csharp"
    },
    "vscode": {
     "languageId": "polyglot-notebook"
    }
   },
   "outputs": [],
   "source": [
    "// First, let's do a plain vanilla text search, no vectors or embeddings.\n",
    "\n",
    "using Azure;\n",
    "using Azure.Search.Documents;\n",
    "using Azure.Search.Documents.Models;\n",
    "using Azure.Search.Documents.Indexes;\n",
    "using System.Text.Json.Serialization;\n",
    "\n",
    "var query = \"What are the best 80s movies I should look at?\";\n",
    "\n",
    "SearchOptions searchOptions = new SearchOptions\n",
    "{\n",
    "    // Filter to only Content greater than or equal our preference\n",
    "    // Filter = SearchFilter.Create($\"Content ge {content}\"),\n",
    "    // OrderBy = { \"Content desc\" } // Sort by Content from high to low\n",
    "    // Size = 5, // Take only 5 results\n",
    "    // Select = { \"id\", \"content\", \"content_vector\" }, // Which fields to return\n",
    "    Size = 5,\n",
    "    Select = { \"content\" },\n",
    "};\n",
    "\n",
    "SearchResults<SearchDocument> response = searchClient.Search<SearchDocument>(query, searchOptions);\n",
    "Pageable<SearchResult<SearchDocument>> results = response.GetResults();\n",
    "\n",
    "// Print count of total results.\n",
    "Console.WriteLine($\"Returned {results.Count()} results using only text-based search.\");\n",
    "Console.WriteLine(\"----------\");\n",
    "\n",
    "// Iterate over Results\n",
    "// Index Fields - id, content, content_vector\n",
    "foreach (SearchResult<SearchDocument> result in results)\n",
    "{\n",
    "    Console.WriteLine($\"Movie: {result.Document[\"content\"]}\");\n",
    "    Console.WriteLine(\"----------\");\n",
    "};"
   ]
  },
  {
   "cell_type": "code",
   "execution_count": null,
   "metadata": {
    "dotnet_interactive": {
     "language": "csharp"
    },
    "polyglot_notebook": {
     "kernelName": "csharp"
    },
    "vscode": {
     "languageId": "polyglot-notebook"
    }
   },
   "outputs": [],
   "source": [
    "// Now let's do a vector search that uses the embeddings we created and inserted into content_vector field in the index.\n",
    "\n",
    "using Azure;\n",
    "using Azure.Search.Documents;\n",
    "using Azure.Search.Documents.Models;\n",
    "using Azure.Search.Documents.Indexes;\n",
    "using System.Text.Json.Serialization;\n",
    "\n",
    "var query = \"What are the best 80s movies I should look at?\";\n",
    "\n",
    "float[] queryEmbedding = azureOpenAIClient.GetEmbeddings(embedding_name, new EmbeddingsOptions(query)).Value.Data[0].Embedding.ToArray();\n",
    "\n",
    "// Note the Vectors addition in the SearchOptions\n",
    "SearchOptions searchOptions = new SearchOptions\n",
    "{\n",
    "    // Filter to only Content greater than or equal our preference\n",
    "    // Filter = SearchFilter.Create($\"Content ge {content}\"),\n",
    "    // OrderBy = { \"Content desc\" } // Sort by Content from high to low\n",
    "    // Size = 5, // Take only 5 results\n",
    "    // Select = { \"id\", \"content\", \"content_vector\" }, // Which fields to return\n",
    "    Vectors = { new() { Value = queryEmbedding, KNearestNeighborsCount = 5, Fields = { \"content_vector\" } } }, // Vector Search\n",
    "    Size = 5,\n",
    "    Select = { \"content\" },\n",
    "};\n",
    "\n",
    "// Note the search text is null when doing a vector search.\n",
    "SearchResults<SearchDocument> response = searchClient.Search<SearchDocument>(null, searchOptions);\n",
    "Pageable<SearchResult<SearchDocument>> results = response.GetResults();\n",
    "\n",
    "// Print count of total results.\n",
    "Console.WriteLine($\"Returned {results.Count()} results using only vector-based search.\");\n",
    "Console.WriteLine(\"----------\");\n",
    "\n",
    "// Iterate over Results\n",
    "// Index Fields - id, content, content_vector\n",
    "foreach (SearchResult<SearchDocument> result in results)\n",
    "{\n",
    "    Console.WriteLine($\"Movie: {result.Document[\"content\"]}\");\n",
    "    Console.WriteLine(\"----------\");\n",
    "};"
   ]
  },
  {
   "cell_type": "markdown",
   "metadata": {},
   "source": [
    "Did that return what you expected? Probably not, let's dig deeper to see why.\n",
    "\n",
    "Let's do the same search again, but this time let's return the **Search Score** so we can see the value returned by the cosine similarity vector store calculation."
   ]
  },
  {
   "cell_type": "code",
   "execution_count": null,
   "metadata": {
    "dotnet_interactive": {
     "language": "csharp"
    },
    "polyglot_notebook": {
     "kernelName": "csharp"
    },
    "vscode": {
     "languageId": "polyglot-notebook"
    }
   },
   "outputs": [],
   "source": [
    "// Try again, but this time let's add the relevance score to maybe see why\n",
    "\n",
    "using Azure;\n",
    "using Azure.Search.Documents;\n",
    "using Azure.Search.Documents.Models;\n",
    "using Azure.Search.Documents.Indexes;\n",
    "using System.Text.Json.Serialization;\n",
    "\n",
    "var query = \"What are the best 80s movies I should look at?\";\n",
    "\n",
    "float[] queryEmbedding = azureOpenAIClient.GetEmbeddings(embedding_name, new EmbeddingsOptions(query)).Value.Data[0].Embedding.ToArray();\n",
    "\n",
    "// Note the Vectors addition in the SearchOptions\n",
    "SearchOptions searchOptions = new SearchOptions\n",
    "{\n",
    "    // Filter to only Content greater than or equal our preference\n",
    "    // Filter = SearchFilter.Create($\"Content ge {content}\"),\n",
    "    // OrderBy = { \"Content desc\" } // Sort by Content from high to low\n",
    "    // Size = 5, // Take only 5 results\n",
    "    // Select = { \"id\", \"content\", \"content_vector\" }, // Which fields to return\n",
    "    Vectors = { new() { Value = queryEmbedding, KNearestNeighborsCount = 5, Fields = { \"content_vector\" } } }, // Vector Search\n",
    "    Size = 5,\n",
    "    Select = { \"id\", \"content\" },\n",
    "};\n",
    "\n",
    "// Note the search text is null when doing a vector search.\n",
    "SearchResults<SearchDocument> response = searchClient.Search<SearchDocument>(null, searchOptions);\n",
    "Pageable<SearchResult<SearchDocument>> results = response.GetResults();\n",
    "\n",
    "// Print count of total results.\n",
    "Console.WriteLine($\"Returned {results.Count()} results using only vector-based search.\");\n",
    "Console.WriteLine(\"----------\");\n",
    "\n",
    "// Iterate over Results\n",
    "// Index Fields - id, content, content_vector\n",
    "foreach (SearchResult<SearchDocument> result in results)\n",
    "{\n",
    "    Console.WriteLine($\"Id: {result.Document[\"id\"]}\");\n",
    "    Console.WriteLine($\"Score: {result.Score}\");\n",
    "    Console.WriteLine(\"----------\");\n",
    "};"
   ]
  },
  {
   "cell_type": "markdown",
   "metadata": {},
   "source": [
    "If you look at the Search Score you will see the relevant ranking of the closest vector match to the query inputted. The lower the score the farther apart the two vectors are. Let's change the search term and see if we can get a higher Search Score which means a higher match and closer vector proximity."
   ]
  },
  {
   "cell_type": "code",
   "execution_count": null,
   "metadata": {
    "dotnet_interactive": {
     "language": "csharp"
    },
    "polyglot_notebook": {
     "kernelName": "csharp"
    },
    "vscode": {
     "languageId": "polyglot-notebook"
    }
   },
   "outputs": [],
   "source": [
    "// Try again, but this time let's add the relevance score to maybe see why\n",
    "\n",
    "using Azure;\n",
    "using Azure.Search.Documents;\n",
    "using Azure.Search.Documents.Models;\n",
    "using Azure.Search.Documents.Indexes;\n",
    "using System.Text.Json.Serialization;\n",
    "\n",
    "var query = \"Who are the actors in the movie Hidden Figures?\";\n",
    "\n",
    "float[] queryEmbedding = azureOpenAIClient.GetEmbeddings(embedding_name, new EmbeddingsOptions(query)).Value.Data[0].Embedding.ToArray();\n",
    "\n",
    "// Note the Vectors addition in the SearchOptions\n",
    "SearchOptions searchOptions = new SearchOptions\n",
    "{\n",
    "    // Filter to only Content greater than or equal our preference\n",
    "    // Filter = SearchFilter.Create($\"Content ge {content}\"),\n",
    "    // OrderBy = { \"Content desc\" } // Sort by Content from high to low\n",
    "    // Size = 5, // Take only 5 results\n",
    "    // Select = { \"id\", \"content\", \"content_vector\" }, // Which fields to return\n",
    "    Vectors = { new() { Value = queryEmbedding, KNearestNeighborsCount = 5, Fields = { \"content_vector\" } } }, // Vector Search\n",
    "    Size = 5,\n",
    "    Select = { \"id\", \"content\" },\n",
    "};\n",
    "\n",
    "// Note the search text is null when doing a vector search.\n",
    "SearchResults<SearchDocument> response = searchClient.Search<SearchDocument>(null, searchOptions);\n",
    "Pageable<SearchResult<SearchDocument>> results = response.GetResults();\n",
    "\n",
    "// Print count of total results.\n",
    "Console.WriteLine($\"Returned {results.Count()} results using only vector-based search.\");\n",
    "Console.WriteLine(\"----------\");\n",
    "\n",
    "// Iterate over Results\n",
    "// Index Fields - id, content, content_vector\n",
    "foreach (SearchResult<SearchDocument> result in results)\n",
    "{\n",
    "    Console.WriteLine($\"Id: {result.Document[\"id\"]}\");\n",
    "    Console.WriteLine($\"Score: {result.Score}\");\n",
    "    Console.WriteLine(\"----------\");\n",
    "};"
   ]
  },
  {
   "cell_type": "markdown",
   "metadata": {},
   "source": [
    "**NOTE:** As you have seen from the results, different inputs can return different results, it all depends on what data is in the Vector Store. The higher the score the higher the likelihood of a match."
   ]
  },
  {
   "cell_type": "markdown",
   "metadata": {},
   "source": [
    "## Hybrid Searching using Azure Cognitive Search\n",
    "\n",
    "What is Hybrid Search? The search is implemented at the field level, which means you can build queries that include vector fields and searchable text fields. The queries execute in parallel and the results are merged into a single response. Optionally, add semantic search, currently in preview, for even more accuracy with L2 reranking using the same language models that power Bing.\n",
    "\n",
    "**NOTE:** Hybrid Search is a key value proposition of Azure Cognitive Search in comparison to vector only data stores."
   ]
  },
  {
   "cell_type": "code",
   "execution_count": null,
   "metadata": {
    "dotnet_interactive": {
     "language": "csharp"
    },
    "polyglot_notebook": {
     "kernelName": "csharp"
    },
    "vscode": {
     "languageId": "polyglot-notebook"
    }
   },
   "outputs": [],
   "source": [
    "// Hybrid Search\n",
    "// Let's try our original query again using Hybrid Search (ie. Combination of Text & Vector Search)\n",
    "\n",
    "using Azure;\n",
    "using Azure.Search.Documents;\n",
    "using Azure.Search.Documents.Models;\n",
    "using Azure.Search.Documents.Indexes;\n",
    "using System.Text.Json.Serialization;\n",
    "\n",
    "var query = \"What are the best 80s movies I should look at?\";\n",
    "\n",
    "float[] queryEmbedding = azureOpenAIClient.GetEmbeddings(embedding_name, new EmbeddingsOptions(query)).Value.Data[0].Embedding.ToArray();\n",
    "\n",
    "// Note the Vectors addition in the SearchOptions\n",
    "SearchOptions searchOptions = new SearchOptions\n",
    "{\n",
    "    // Filter to only Content greater than or equal our preference\n",
    "    // Filter = SearchFilter.Create($\"Content ge {content}\"),\n",
    "    // OrderBy = { \"Content desc\" } // Sort by Content from high to low\n",
    "    // Size = 5, // Take only 5 results\n",
    "    // Select = { \"id\", \"content\", \"content_vector\" }, // Which fields to return\n",
    "    Vectors = { new() { Value = queryEmbedding, KNearestNeighborsCount = 5, Fields = { \"content_vector\" } } }, // Vector Search\n",
    "    Size = 5,\n",
    "    Select = { \"id\", \"content\" },\n",
    "};\n",
    "\n",
    "// Note the search text and the vector search are both filled in.\n",
    "SearchResults<SearchDocument> response = searchClient.Search<SearchDocument>(query, searchOptions);\n",
    "Pageable<SearchResult<SearchDocument>> results = response.GetResults();\n",
    "\n",
    "// Print count of total results.\n",
    "Console.WriteLine($\"Returned {results.Count()} results using hybrid search search.\");\n",
    "Console.WriteLine(\"----------\");\n",
    "\n",
    "// Iterate over Results\n",
    "// Index Fields - id, content, content_vector\n",
    "foreach (SearchResult<SearchDocument> result in results)\n",
    "{\n",
    "    Console.WriteLine($\"Id: {result.Document[\"id\"]}\");\n",
    "    Console.WriteLine($\"Score: {result.Score}\");\n",
    "    Console.WriteLine(\"----------\");\n",
    "};"
   ]
  },
  {
   "cell_type": "code",
   "execution_count": null,
   "metadata": {
    "dotnet_interactive": {
     "language": "csharp"
    },
    "polyglot_notebook": {
     "kernelName": "csharp"
    },
    "vscode": {
     "languageId": "polyglot-notebook"
    }
   },
   "outputs": [],
   "source": [
    "// Hybrid Search\n",
    "// Let's try our more specific query again to see the difference in the score returned.\n",
    "\n",
    "using Azure;\n",
    "using Azure.Search.Documents;\n",
    "using Azure.Search.Documents.Models;\n",
    "using Azure.Search.Documents.Indexes;\n",
    "using System.Text.Json.Serialization;\n",
    "\n",
    "var query = \"Who are the actors in the movie Hidden Figures?\";\n",
    "\n",
    "float[] queryEmbedding = azureOpenAIClient.GetEmbeddings(embedding_name, new EmbeddingsOptions(query)).Value.Data[0].Embedding.ToArray();\n",
    "\n",
    "// Note the Vectors addition in the SearchOptions\n",
    "SearchOptions searchOptions = new SearchOptions\n",
    "{\n",
    "    // Filter to only Content greater than or equal our preference\n",
    "    // Filter = SearchFilter.Create($\"Content ge {content}\"),\n",
    "    // OrderBy = { \"Content desc\" } // Sort by Content from high to low\n",
    "    // Size = 5, // Take only 5 results\n",
    "    // Select = { \"id\", \"content\", \"content_vector\" }, // Which fields to return\n",
    "    Vectors = { new() { Value = queryEmbedding, KNearestNeighborsCount = 5, Fields = { \"content_vector\" } } }, // Vector Search\n",
    "    Size = 5,\n",
    "    Select = { \"id\", \"content\" },\n",
    "};\n",
    "\n",
    "// Note the search text and the vector search are both filled in.\n",
    "SearchResults<SearchDocument> response = searchClient.Search<SearchDocument>(query, searchOptions);\n",
    "Pageable<SearchResult<SearchDocument>> results = response.GetResults();\n",
    "\n",
    "// Print count of total results.\n",
    "Console.WriteLine($\"Returned {results.Count()} results using hybrid search search.\");\n",
    "Console.WriteLine(\"----------\");\n",
    "\n",
    "// Iterate over Results\n",
    "// Index Fields - id, content, content_vector\n",
    "foreach (SearchResult<SearchDocument> result in results)\n",
    "{\n",
    "    Console.WriteLine($\"Id: {result.Document[\"id\"]}\");\n",
    "    Console.WriteLine($\"Score: {result.Score}\");\n",
    "    Console.WriteLine(\"----------\");\n",
    "};"
   ]
  },
  {
   "cell_type": "markdown",
   "metadata": {},
   "source": [
    "## Bringing it All Together with Retrieval Augmented Generation (RAG) + Semantic Kernel (SK)\n",
    "\n",
    "Now that we have our Vector Store setup and data loaded, we are now ready to implement the RAG pattern using AI Orchestration. At a high-level, the following steps are required:\n",
    "1. Ask the question\n",
    "2. Create Prompt Template with inputs\n",
    "3. Get Embedding representation of inputted question\n",
    "4. Use embedded version of the question to search Azure Cognitive Search (ie. The Vector Store)\n",
    "5. Inject the results of the search into the Prompt Template & Execute the Prompt to get the completion"
   ]
  },
  {
   "cell_type": "code",
   "execution_count": null,
   "metadata": {
    "dotnet_interactive": {
     "language": "csharp"
    },
    "polyglot_notebook": {
     "kernelName": "csharp"
    },
    "vscode": {
     "languageId": "polyglot-notebook"
    }
   },
   "outputs": [],
   "source": [
    "// Implement RAG using Semantic Kernel (SK)\n",
    "\n",
    "// Add the Packages\n",
    "#r \"nuget: DotNetEnv, 2.5.0\"\n",
    "#r \"nuget: Microsoft.SemanticKernel, 0.24.230918.1-preview\"\n",
    "#r \"nuget: Microsoft.SemanticKernel.Abstractions, 0.24.230918.1-preview\"\n",
    "#r \"nuget: Azure.AI.OpenAI, 1.0.0-beta.7\"\n",
    "#r \"nuget: Azure.Identity, 1.10.1\"\n",
    "#r \"nuget: Azure.Search.Documents, 11.5.0-beta.4\"\n",
    "#r \"nuget: Microsoft.Extensions.Logging, 7.0.0\"\n",
    "#r \"nuget: Microsoft.Extensions.Logging.Console, 7.0.0\"\n",
    "\n",
    "using System.IO;\n",
    "using Microsoft.SemanticKernel;\n",
    "using Microsoft.SemanticKernel.SemanticFunctions;\n",
    "using Microsoft.SemanticKernel.Orchestration;\n",
    "using Microsoft.SemanticKernel.SkillDefinition;\n",
    "using Azure;\n",
    "using Azure.Search.Documents;\n",
    "using Azure.Search.Documents.Models;\n",
    "using Azure.Search.Documents.Indexes;\n",
    "using Azure.AI.OpenAI;\n",
    "using Azure.Identity;\n",
    "\n",
    "// Read values from .env file\n",
    "DotNetEnv.Env.Load(\"../../../.env\");\n",
    "\n",
    "// Load values into variables\n",
    "var openai_api_type = System.Environment.GetEnvironmentVariable(\"OPENAI_API_TYPE\");\n",
    "var openai_api_key = System.Environment.GetEnvironmentVariable(\"OPENAI_API_KEY\");\n",
    "var openai_api_base = System.Environment.GetEnvironmentVariable(\"OPENAI_API_BASE\");\n",
    "var openai_api_version = System.Environment.GetEnvironmentVariable(\"OPENAI_API_VERSION\");\n",
    "var deployment_name = System.Environment.GetEnvironmentVariable(\"AZURE_OPENAI_COMPLETION_DEPLOYMENT_NAME\");\n",
    "var embedding_name = System.Environment.GetEnvironmentVariable(\"AZURE_OPENAI_EMBEDDING_DEPLOYMENT_NAME\");\n",
    "var acs_service_name = System.Environment.GetEnvironmentVariable(\"AZURE_COGNITIVE_SEARCH_SERVICE_NAME\");\n",
    "var acs_endpoint_name = System.Environment.GetEnvironmentVariable(\"AZURE_COGNITIVE_SEARCH_ENDPOINT_NAME\");\n",
    "var acs_index_name = System.Environment.GetEnvironmentVariable(\"AZURE_COGNITIVE_SEARCH_INDEX_NAME\");\n",
    "var acs_api_key = System.Environment.GetEnvironmentVariable(\"AZURE_COGNITIVE_SEARCH_API_KEY\");\n",
    "\n",
    "Console.WriteLine(\"Environment Variables loaded.\");\n",
    "\n",
    "// Setup Semantic Kernel\n",
    "IKernel kernel = Kernel.Builder\n",
    "    .WithAzureChatCompletionService(deployment_name, openai_api_base, openai_api_key)\n",
    "    .WithAzureTextEmbeddingGenerationService(embedding_name, openai_api_base, openai_api_key)\n",
    "    .Build();\n",
    "\n",
    "Console.WriteLine(\"SK Kernel with ChatCompletion and EmbeddingsGeneration services created.\");\n",
    "\n",
    "// Ask the question\n",
    "var question = \"List the movies about ships on the water.\";\n",
    "\n",
    "// Create a prompt template with variables, note the double curly braces with dollar sign for the variables\n",
    "// First let's create the prompt string.\n",
    "var sk_prompt = @\"\n",
    "Question: {{$original_question}}\n",
    "\n",
    "Do not use any other data.\n",
    "Only use the movie data below when responding.\n",
    "{{$search_results}}\n",
    "\";\n",
    "// Create the PromptTemplateConfig\n",
    "PromptTemplateConfig promptConfig = new PromptTemplateConfig\n",
    "{\n",
    "    Schema = 1,\n",
    "    Type = \"completion\",\n",
    "    Description = \"Gets the intent of the user.\",\n",
    "    Completion = \n",
    "    {\n",
    "        Temperature = 0.1,\n",
    "        TopP = 0.5,\n",
    "        PresencePenalty = 0.0,\n",
    "        FrequencyPenalty = 0.0,\n",
    "        MaxTokens = 500\n",
    "        // StopSequences = null,\n",
    "        // ChatSystemPprompt = null;\n",
    "    },\n",
    "    Input = \n",
    "    {\n",
    "        Parameters = new List<PromptTemplateConfig.InputParameter>\n",
    "        {\n",
    "            new PromptTemplateConfig.InputParameter\n",
    "            {\n",
    "                Name=\"original_question\",\n",
    "                Description=\"The user's request.\",\n",
    "                DefaultValue=\"\"\n",
    "            },\n",
    "            new PromptTemplateConfig.InputParameter\n",
    "            {\n",
    "                Name=\"search_results\",\n",
    "                Description=\"Vector Search results from Azure Cognitive Search.\",\n",
    "                DefaultValue=\"\"\n",
    "            }\n",
    "        }\n",
    "    }\n",
    "};\n",
    "// Create the SemanticFunctionConfig object\n",
    "PromptTemplate promptTemplate = new PromptTemplate(\n",
    "    sk_prompt,\n",
    "    promptConfig,\n",
    "    kernel\n",
    ");\n",
    "SemanticFunctionConfig functionConfig = new SemanticFunctionConfig(promptConfig, promptTemplate);\n",
    "// Register the GetIntent function with the Kernel\n",
    "ISKFunction getIntentFunction = kernel.RegisterSemanticFunction(\"CustomPlugin\", \"GetIntent\", functionConfig);\n",
    "\n",
    "Console.WriteLine(\"Semantic Function GetIntent with SK has been completed.\");\n",
    "\n",
    "// Get Embedding for the original question\n",
    "OpenAIClient azureOpenAIClient = new OpenAIClient(new Uri(openai_api_base),new AzureKeyCredential(openai_api_key));\n",
    "float[] questionEmbedding = azureOpenAIClient.GetEmbeddings(embedding_name, new EmbeddingsOptions(question)).Value.Data[0].Embedding.ToArray();\n",
    "\n",
    "Console.WriteLine(\"Embedding of original question has been completed.\");\n",
    "\n",
    "// Search Vector Store\n",
    "SearchOptions searchOptions = new SearchOptions\n",
    "{\n",
    "    // Filter to only Content greater than or equal our preference\n",
    "    // Filter = SearchFilter.Create($\"Content ge {content}\"),\n",
    "    // OrderBy = { \"Content desc\" } // Sort by Content from high to low\n",
    "    // Size = 5, // Take only 5 results\n",
    "    // Select = { \"id\", \"content\", \"content_vector\" }, // Which fields to return\n",
    "    Vectors = { new() { Value = questionEmbedding, KNearestNeighborsCount = 5, Fields = { \"content_vector\" } } }, // Vector Search\n",
    "    Size = 5,\n",
    "    Select = { \"id\", \"content\" },\n",
    "};\n",
    "\n",
    "// Note the search text is null and the vector search is filled in.\n",
    "AzureKeyCredential credential = new AzureKeyCredential(acs_api_key);\n",
    "SearchClient searchClient = new SearchClient(new Uri(acs_endpoint_name), acs_index_name, credential);\n",
    "SearchResults<SearchDocument> response = searchClient.Search<SearchDocument>(null, searchOptions);\n",
    "Pageable<SearchResult<SearchDocument>> results = response.GetResults();\n",
    "// Create string from the results\n",
    "StringBuilder stringBuilderResults = new StringBuilder();\n",
    "foreach (SearchResult<SearchDocument> result in results)\n",
    "{\n",
    "    stringBuilderResults.AppendLine($\"{result.Document[\"content\"]}\");\n",
    "};\n",
    "\n",
    "Console.WriteLine(\"Searching of Vector Store has been completed.\");\n",
    "\n",
    "// Build the Prompt and Execute against the Azure OpenAI to get the completion\n",
    "// Initialize the prompt variables\n",
    "ContextVariables variables = new ContextVariables\n",
    "{\n",
    "    [\"original_question\"] = question,\n",
    "    [\"search_results\"] = stringBuilderResults.ToString()\n",
    "};\n",
    "// Use SK Chaining to Invoke Semantic Function\n",
    "string completion = (await kernel.RunAsync(variables, getIntentFunction)).Result;\n",
    "Console.WriteLine(completion);\n",
    "\n",
    "Console.WriteLine(\"Implementation of RAG using SK, C# and Azure Cognitive Search has been completed.\");"
   ]
  },
  {
   "cell_type": "markdown",
   "metadata": {},
   "source": [
    "## Next Section\n",
    "\n",
    "📣 [Deploy AI](../../04-deploy-ai/README.md)"
   ]
  }
 ],
 "metadata": {
  "kernelspec": {
   "display_name": "Python 3",
   "language": "python",
   "name": "python3"
  },
  "language_info": {
   "codemirror_mode": {
    "name": "ipython",
    "version": 3
   },
   "file_extension": ".py",
   "mimetype": "text/x-python",
   "name": "python",
   "nbconvert_exporter": "python",
   "pygments_lexer": "ipython3",
   "version": "3.11.5"
  },
  "orig_nbformat": 4
 },
 "nbformat": 4,
 "nbformat_minor": 2
}
